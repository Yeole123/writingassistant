{
 "cells": [
  {
   "cell_type": "code",
   "execution_count": 6,
   "metadata": {},
   "outputs": [
    {
     "name": "stdout",
     "output_type": "stream",
     "text": [
      "Model and tokenizer loaded successfully.\n"
     ]
    }
   ],
   "source": [
    "\n",
    "\n",
    "import torch\n",
    "from transformers import BartForConditionalGeneration, BartTokenizer\n",
    "model = BartForConditionalGeneration.from_pretrained('eugenesiow/bart-paraphrase')\n",
    "device = torch.device(\"cuda\" if torch.cuda.is_available() else \"cpu\")\n",
    "model = model.to(device)\n",
    "tokenizer = BartTokenizer.from_pretrained('eugenesiow/bart-paraphrase')\n",
    "print(\"Model and tokenizer loaded successfully.\")\n"
   ]
  },
  {
   "cell_type": "code",
   "execution_count": 7,
   "metadata": {},
   "outputs": [
    {
     "name": "stdout",
     "output_type": "stream",
     "text": [
      "Original Sentence:\n",
      "  They were there to enjoy us and they were there to pray for us.\n",
      "\n",
      "Paraphrased Sentence:\n",
      "  They were there to enjoy us and to pray for us.\n"
     ]
    }
   ],
   "source": [
    "\n",
    "input_sentence = \"They were there to enjoy us and they were there to pray for us.\"\n",
    "batch = tokenizer(input_sentence, return_tensors='pt').to(device)\n",
    "generated_ids = model.generate(batch['input_ids'], num_beams=5, max_length=50, early_stopping=True)\n",
    "generated_sentence = tokenizer.decode(generated_ids[0], skip_special_tokens=True)\n",
    "print(\"Original Sentence:\")\n",
    "print(f\"  {input_sentence}\\n\")\n",
    "print(\"Paraphrased Sentence:\")\n",
    "print(f\"  {generated_sentence}\")\n"
   ]
  },
  {
   "cell_type": "code",
   "execution_count": null,
   "metadata": {},
   "outputs": [],
   "source": []
  }
 ],
 "metadata": {
  "kernelspec": {
   "display_name": "base",
   "language": "python",
   "name": "python3"
  },
  "language_info": {
   "codemirror_mode": {
    "name": "ipython",
    "version": 3
   },
   "file_extension": ".py",
   "mimetype": "text/x-python",
   "name": "python",
   "nbconvert_exporter": "python",
   "pygments_lexer": "ipython3",
   "version": "3.12.4"
  }
 },
 "nbformat": 4,
 "nbformat_minor": 2
}
